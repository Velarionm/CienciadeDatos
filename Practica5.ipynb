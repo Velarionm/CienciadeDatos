{
 "cells": [
  {
   "cell_type": "code",
   "execution_count": 30,
   "id": "dc92f10d-c8d9-414b-a61b-d52a34f97e75",
   "metadata": {},
   "outputs": [],
   "source": [
    "import pandas as pd\n"
   ]
  },
  {
   "cell_type": "code",
   "execution_count": 31,
   "id": "715e900a-ca04-42f9-a46b-fa3eff18fa55",
   "metadata": {},
   "outputs": [],
   "source": [
    "data= {'NOMBRE':['Maria','Jose','David','Ivan'],\n",
    "       'CARRERA':['Auditoria','Informatica','Derecho','Idiomas'],\n",
    "        'CORREO':['brayan.sandoval@unmsm.edu.pe','jose@homa.com','dad@homacom','ivan@hotmals.com']}\n"
   ]
  },
  {
   "cell_type": "code",
   "execution_count": 34,
   "id": "833c2dd3-75b8-4b63-b1ff-58b91e3d9879",
   "metadata": {},
   "outputs": [],
   "source": [
    "estudiantes= pd.DataFrame(data)\n"
   ]
  },
  {
   "cell_type": "code",
   "execution_count": 35,
   "id": "abde09c1-25a9-4793-bf77-129ce58b070d",
   "metadata": {},
   "outputs": [
    {
     "name": "stdout",
     "output_type": "stream",
     "text": [
      "  NOMBRE      CARRERA                        CORREO\n",
      "0  Maria    Auditoria  brayan.sandoval@unmsm.edu.pe\n",
      "1   Jose  Informatica                 jose@homa.com\n",
      "2  David      Derecho                   dad@homacom\n",
      "3   Ivan      Idiomas              ivan@hotmals.com\n"
     ]
    }
   ],
   "source": [
    "print(estudiantes)"
   ]
  },
  {
   "cell_type": "code",
   "execution_count": null,
   "id": "301aa934-a961-4d7e-bd4c-de5886b6e6d6",
   "metadata": {},
   "outputs": [],
   "source": []
  }
 ],
 "metadata": {
  "kernelspec": {
   "display_name": "Python 3 (ipykernel)",
   "language": "python",
   "name": "python3"
  },
  "language_info": {
   "codemirror_mode": {
    "name": "ipython",
    "version": 3
   },
   "file_extension": ".py",
   "mimetype": "text/x-python",
   "name": "python",
   "nbconvert_exporter": "python",
   "pygments_lexer": "ipython3",
   "version": "3.10.13"
  }
 },
 "nbformat": 4,
 "nbformat_minor": 5
}
