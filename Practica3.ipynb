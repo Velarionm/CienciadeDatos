{
 "cells": [
  {
   "cell_type": "markdown",
   "id": "7b8edbb9-0c48-45dc-84be-9e9277249cf7",
   "metadata": {},
   "source": [
    "**Importe Pandas**\r\n",
    "\r\n",
    "\n"
   ]
  },
  {
   "cell_type": "code",
   "execution_count": 15,
   "id": "e61d7ee2-3499-430a-92c3-a7a184ed834e",
   "metadata": {},
   "outputs": [],
   "source": [
    "import tensorflow as tf\n",
    "import numpy as np"
   ]
  },
  {
   "cell_type": "code",
   "execution_count": 17,
   "id": "4570094b-53ec-43e8-8673-96ca43385f6c",
   "metadata": {},
   "outputs": [],
   "source": [
    "celsius= np.array([-40,-10,0,8,15,22,38], dtype=float)\n",
    "fahrenheit= np.array([-40,14,32,46,59,72,100],dtype=float)"
   ]
  },
  {
   "cell_type": "code",
   "execution_count": 26,
   "id": "ebd4e20d-3f90-4289-bf23-3070a8668e61",
   "metadata": {},
   "outputs": [],
   "source": [
    "#capa=tf.keras.layers.Dense(units=1,input_shape=[1])\n",
    "#modelo = tf.keras.Sequential([capa])\n",
    "oculta1= tf.keras.layers.Dense(units=3, input_shape=[1])\n",
    "oculta2= tf.keras.layers.Dense(units=3)\n",
    "salida= tf.keras.layers.Dense(units=1)\n",
    "modelo= tf.keras.Sequential([oculta1, oculta2, salida])"
   ]
  },
  {
   "cell_type": "code",
   "execution_count": 27,
   "id": "9edc18e2-4063-4a79-a1a0-5a5729faf03f",
   "metadata": {},
   "outputs": [],
   "source": [
    "modelo.compile(\n",
    "    optimizer=tf.keras.optimizers.Adam(0.1),\n",
    "    loss='mean_squared_error'\n",
    ")"
   ]
  },
  {
   "cell_type": "code",
   "execution_count": 28,
   "id": "fcedcb72-a513-48b6-9718-e47acf2a7da7",
   "metadata": {},
   "outputs": [
    {
     "name": "stdout",
     "output_type": "stream",
     "text": [
      "COMENZANDO ENTRENAMIENTO.....\n",
      "MODELO ENTRENADO!\n"
     ]
    }
   ],
   "source": [
    "print(\"COMENZANDO ENTRENAMIENTO.....\")\n",
    "historial=modelo.fit(celsius,fahrenheit, epochs=1000, verbose=False)\n",
    "print(\"MODELO ENTRENADO!\")"
   ]
  },
  {
   "cell_type": "code",
   "execution_count": 29,
   "id": "0f7b7404-9e09-4d35-b6c3-4558e667cb3c",
   "metadata": {},
   "outputs": [
    {
     "data": {
      "text/plain": [
       "[<matplotlib.lines.Line2D at 0x2322310ab30>]"
      ]
     },
     "execution_count": 29,
     "metadata": {},
     "output_type": "execute_result"
    },
    {
     "data": {
      "image/png": "[encoded data removed]",
      "text/plain": [
       "<Figure size 640x480 with 1 Axes>"
      ]
     },
     "metadata": {},
     "output_type": "display_data"
    }
   ],
   "source": [
    "import matplotlib.pyplot as plt\n",
    "plt.xlabel(\"#Epoca\")\n",
    "plt.ylabel(\"Magnitud de perdida\")\n",
    "plt.plot(historial.history[\"loss\"])"
   ]
  },
  {
   "cell_type": "code",
   "execution_count": 30,
   "id": "20aef106-8d41-4412-b763-35cedd2f3fde",
   "metadata": {},
   "outputs": [
    {
     "name": "stdout",
     "output_type": "stream",
     "text": [
      "Hagamos una prediccion\n",
      "1/1 [==============================] - 0s 141ms/step\n",
      "El resultado es [[211.74742]]fahrenheit!\n"
     ]
    }
   ],
   "source": [
    "print(\"Hagamos una prediccion\")\n",
    "resultado = modelo.predict([100.0])\n",
    "print(\"El resultado es \" +str(resultado)+ \"fahrenheit!\")"
   ]
  },
  {
   "cell_type": "code",
   "execution_count": 31,
   "id": "a8b33591-fec5-486a-bd19-987ca9a5221c",
   "metadata": {},
   "outputs": [
    {
     "name": "stdout",
     "output_type": "stream",
     "text": [
      "Variables internas del modelo\n",
      "[array([[ 0.20153047,  0.49926528, -1.0558395 ]], dtype=float32), array([ 4.218477 , -1.7489328, -5.8143635], dtype=float32)]\n",
      "[array([[-0.19926134,  0.4232328 , -1.8977828 ],\n",
      "       [ 0.64075536, -0.5816028 , -0.7678382 ],\n",
      "       [ 1.0731399 , -1.2368782 , -0.48611662]], dtype=float32), array([-5.6938534,  5.2452745, -0.2107007], dtype=float32)]\n",
      "[array([[-0.89786434],\n",
      "       [ 0.8993507 ],\n",
      "       [-0.1652123 ]], dtype=float32), array([5.1026764], dtype=float32)]\n"
     ]
    }
   ],
   "source": [
    "print(\"Variables internas del modelo\")\n",
    "#print(capa.get_weights())\n",
    "print(oculta1.get_weights())\n",
    "print(oculta2.get_weights())\n",
    "print(salida.get_weights())"
   ]
  },
  {
   "cell_type": "code",
   "execution_count": null,
   "id": "dc362d1c-440d-4a95-8d7d-378d0b628eee",
   "metadata": {},
   "outputs": [],
   "source": []
  }
 ],
 "metadata": {
  "kernelspec": {
   "display_name": "Python 3 (ipykernel)",
   "language": "python",
   "name": "python3"
  },
  "language_info": {
   "codemirror_mode": {
    "name": "ipython",
    "version": 3
   },
   "file_extension": ".py",
   "mimetype": "text/x-python",
   "name": "python",
   "nbconvert_exporter": "python",
   "pygments_lexer": "ipython3",
   "version": "3.10.13"
  }
 },
 "nbformat": 4,
 "nbformat_minor": 5
}
